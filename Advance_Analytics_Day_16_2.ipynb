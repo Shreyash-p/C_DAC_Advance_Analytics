{
 "cells": [
  {
   "cell_type": "markdown",
   "id": "fac5708e",
   "metadata": {},
   "source": [
    "# Simulation"
   ]
  },
  {
   "cell_type": "code",
   "execution_count": 1,
   "id": "e79e6b06",
   "metadata": {},
   "outputs": [],
   "source": [
    "import pandas as pd\n",
    "import numpy as np"
   ]
  },
  {
   "cell_type": "markdown",
   "id": "7c7fe296",
   "metadata": {},
   "source": [
    "# Monte Carlo"
   ]
  },
  {
   "cell_type": "code",
   "execution_count": 2,
   "id": "c72fa763",
   "metadata": {},
   "outputs": [
    {
     "data": {
      "text/plain": [
       "array([0.80967967, 0.96439756, 0.89961531, 0.3694204 , 0.14216092,\n",
       "       0.05494211, 0.17282052, 0.36427826, 0.39048414, 0.61478861])"
      ]
     },
     "execution_count": 2,
     "metadata": {},
     "output_type": "execute_result"
    }
   ],
   "source": [
    "random = np.random.rand(10)\n",
    "random"
   ]
  },
  {
   "cell_type": "code",
   "execution_count": 3,
   "id": "4ef3ca65",
   "metadata": {},
   "outputs": [
    {
     "name": "stdout",
     "output_type": "stream",
     "text": [
      "[0.3  0.5  0.7  0.78 0.94 0.96 1.  ]\n",
      "Expected Value = 1.8199999999999998\n"
     ]
    }
   ],
   "source": [
    "x = np.array([0,1,2,3,4,5,6])\n",
    "prob = np.array([0.3,0.2,0.2,0.08,0.16,0.02,0.04])\n",
    "cumu = np.cumsum(prob)\n",
    "exp_x = np.dot(x, prob)\n",
    "\n",
    "print(cumu)\n",
    "print(\"Expected Value =\", exp_x)"
   ]
  },
  {
   "cell_type": "code",
   "execution_count": 4,
   "id": "33e5f81b",
   "metadata": {},
   "outputs": [
    {
     "name": "stdout",
     "output_type": "stream",
     "text": [
      "[0.28150491]\n",
      "[False False False False False False False]\n",
      "0\n"
     ]
    }
   ],
   "source": [
    "d = np.random.rand(1)\n",
    "finding = d > cumu\n",
    "i_finding = np.sum(finding)\n",
    "\n",
    "print(d)\n",
    "print(finding)\n",
    "print(x[i_finding])"
   ]
  },
  {
   "cell_type": "markdown",
   "id": "2dac60b2",
   "metadata": {},
   "source": [
    "## For 100 random values"
   ]
  },
  {
   "cell_type": "code",
   "execution_count": 5,
   "id": "05ae4162",
   "metadata": {},
   "outputs": [],
   "source": [
    "random = np.random.rand(100)\n",
    "sim = []\n",
    "\n",
    "for d in random:\n",
    "    finding = d > cumu\n",
    "    i_finding = np.sum(finding)\n",
    "    sim.append(x[i_finding])"
   ]
  },
  {
   "cell_type": "code",
   "execution_count": 6,
   "id": "2b336e5a",
   "metadata": {},
   "outputs": [
    {
     "name": "stdout",
     "output_type": "stream",
     "text": [
      "Mean of Simulated = 2.01\n"
     ]
    }
   ],
   "source": [
    "print(\"Mean of Simulated =\", np.mean(sim))"
   ]
  },
  {
   "cell_type": "markdown",
   "id": "7856d681",
   "metadata": {},
   "source": [
    "# 100 Demand/Week"
   ]
  },
  {
   "cell_type": "code",
   "execution_count": 7,
   "id": "1a6653a9",
   "metadata": {},
   "outputs": [],
   "source": [
    "random = np.random.rand(100)"
   ]
  },
  {
   "cell_type": "code",
   "execution_count": 8,
   "id": "2d191fe8",
   "metadata": {},
   "outputs": [
    {
     "name": "stdout",
     "output_type": "stream",
     "text": [
      "[0.04 0.26 0.42 0.84 0.94 1.  ]\n"
     ]
    }
   ],
   "source": [
    "x = np.array([0,5,10,15,20,25])\n",
    "prob = np.array([0.04,0.22,0.16,0.42,0.1,0.06])\n",
    "cumu = np.cumsum(prob)\n",
    "\n",
    "print(cumu)"
   ]
  },
  {
   "cell_type": "code",
   "execution_count": 9,
   "id": "eb29aaa0",
   "metadata": {},
   "outputs": [
    {
     "name": "stdout",
     "output_type": "stream",
     "text": [
      "Mean of Simulated = 12.45\n"
     ]
    }
   ],
   "source": [
    "sim = []\n",
    "for d in random:\n",
    "    finding = d > cumu\n",
    "    i_finding = np.sum(finding)\n",
    "    sim.append(x[i_finding])\n",
    "    \n",
    "print(\"Mean of Simulated =\", np.mean(sim))"
   ]
  },
  {
   "cell_type": "markdown",
   "id": "dd08ba6e",
   "metadata": {},
   "source": [
    "# Sick Driver Problem"
   ]
  },
  {
   "cell_type": "code",
   "execution_count": 10,
   "id": "ac6b45ba",
   "metadata": {},
   "outputs": [],
   "source": [
    "random = np.random.rand(100)"
   ]
  },
  {
   "cell_type": "code",
   "execution_count": 11,
   "id": "6e2cd6cd",
   "metadata": {},
   "outputs": [],
   "source": [
    "x = np.array([0,1,2,3,4,5])\n",
    "prob = np.array([0.30,0.20,0.15,0.10,0.13,0.12])\n",
    "cumu = np.cumsum(prob)"
   ]
  },
  {
   "cell_type": "code",
   "execution_count": 12,
   "id": "da1e5dd6",
   "metadata": {},
   "outputs": [
    {
     "data": {
      "text/plain": [
       "28"
      ]
     },
     "execution_count": 12,
     "metadata": {},
     "output_type": "execute_result"
    }
   ],
   "source": [
    "sim = []\n",
    "\n",
    "for d in random:\n",
    "    finding = d> cumu\n",
    "    i_finding = np.sum(finding)\n",
    "    sim.append(x[i_finding])\n",
    "  \n",
    "# No.of Reserved drivers\n",
    "reserved = 2\n",
    "sim = np.array(sim)\n",
    "\n",
    "# Days the bus will be cancled\n",
    "np.sum(sim > 2)"
   ]
  },
  {
   "cell_type": "markdown",
   "id": "87d0f17c",
   "metadata": {},
   "source": [
    "# Purchase - sale"
   ]
  },
  {
   "cell_type": "code",
   "execution_count": 13,
   "id": "67d5fae0",
   "metadata": {},
   "outputs": [],
   "source": [
    "random = np.random.rand(30)"
   ]
  },
  {
   "cell_type": "code",
   "execution_count": 14,
   "id": "09c76c5a",
   "metadata": {},
   "outputs": [],
   "source": [
    "# Supply probability\n",
    "supply = np.array([10,20,30,40,50])\n",
    "sum_prob = np.array([0.08,0.1,0.38,0.3,0.14])\n",
    "\n",
    "# Demand probability\n",
    "demand = np.array([10,20,30,40,50])\n",
    "de_prob = np.array([50,110,200,100,40])/500"
   ]
  },
  {
   "cell_type": "code",
   "execution_count": 15,
   "id": "46ec07a4",
   "metadata": {},
   "outputs": [],
   "source": [
    "cumu_supply = np.cumsum(sum_prob)\n",
    "cumu_demand = np.cumsum(de_prob)"
   ]
  },
  {
   "cell_type": "code",
   "execution_count": 16,
   "id": "8c8cb862",
   "metadata": {},
   "outputs": [],
   "source": [
    "random = np.random.rand(30)\n",
    "sim_demand = []\n",
    "\n",
    "for d in random:\n",
    "    finding = d > cumu_demand\n",
    "    i_finding = np.sum(finding)\n",
    "    sim_demand.append(demand[i_finding])"
   ]
  },
  {
   "cell_type": "code",
   "execution_count": 17,
   "id": "e5f9d6b8",
   "metadata": {},
   "outputs": [],
   "source": [
    "random = np.random.rand(30)\n",
    "sim_supply = []\n",
    "\n",
    "for d in random:\n",
    "    finding = d > cumu_supply\n",
    "    i_finding = np.sum(finding)\n",
    "    sim_supply.append(supply[i_finding])"
   ]
  },
  {
   "cell_type": "code",
   "execution_count": 18,
   "id": "7972ad25",
   "metadata": {},
   "outputs": [
    {
     "data": {
      "text/html": [
       "<div>\n",
       "<style scoped>\n",
       "    .dataframe tbody tr th:only-of-type {\n",
       "        vertical-align: middle;\n",
       "    }\n",
       "\n",
       "    .dataframe tbody tr th {\n",
       "        vertical-align: top;\n",
       "    }\n",
       "\n",
       "    .dataframe thead th {\n",
       "        text-align: right;\n",
       "    }\n",
       "</style>\n",
       "<table border=\"1\" class=\"dataframe\">\n",
       "  <thead>\n",
       "    <tr style=\"text-align: right;\">\n",
       "      <th></th>\n",
       "      <th>sim_supply</th>\n",
       "      <th>sim_demand</th>\n",
       "    </tr>\n",
       "  </thead>\n",
       "  <tbody>\n",
       "    <tr>\n",
       "      <th>0</th>\n",
       "      <td>40</td>\n",
       "      <td>40</td>\n",
       "    </tr>\n",
       "    <tr>\n",
       "      <th>1</th>\n",
       "      <td>40</td>\n",
       "      <td>30</td>\n",
       "    </tr>\n",
       "    <tr>\n",
       "      <th>2</th>\n",
       "      <td>40</td>\n",
       "      <td>30</td>\n",
       "    </tr>\n",
       "    <tr>\n",
       "      <th>3</th>\n",
       "      <td>40</td>\n",
       "      <td>30</td>\n",
       "    </tr>\n",
       "    <tr>\n",
       "      <th>4</th>\n",
       "      <td>50</td>\n",
       "      <td>30</td>\n",
       "    </tr>\n",
       "  </tbody>\n",
       "</table>\n",
       "</div>"
      ],
      "text/plain": [
       "   sim_supply  sim_demand\n",
       "0          40          40\n",
       "1          40          30\n",
       "2          40          30\n",
       "3          40          30\n",
       "4          50          30"
      ]
     },
     "execution_count": 18,
     "metadata": {},
     "output_type": "execute_result"
    }
   ],
   "source": [
    "sim_df = pd.DataFrame({'sim_supply':sim_supply,\n",
    "                       'sim_demand':sim_demand})\n",
    "\n",
    "sim_df.head(5)"
   ]
  },
  {
   "cell_type": "code",
   "execution_count": 19,
   "id": "5fb36807",
   "metadata": {},
   "outputs": [
    {
     "data": {
      "text/html": [
       "<div>\n",
       "<style scoped>\n",
       "    .dataframe tbody tr th:only-of-type {\n",
       "        vertical-align: middle;\n",
       "    }\n",
       "\n",
       "    .dataframe tbody tr th {\n",
       "        vertical-align: top;\n",
       "    }\n",
       "\n",
       "    .dataframe thead th {\n",
       "        text-align: right;\n",
       "    }\n",
       "</style>\n",
       "<table border=\"1\" class=\"dataframe\">\n",
       "  <thead>\n",
       "    <tr style=\"text-align: right;\">\n",
       "      <th></th>\n",
       "      <th>sim_supply</th>\n",
       "      <th>sim_demand</th>\n",
       "      <th>sold</th>\n",
       "    </tr>\n",
       "  </thead>\n",
       "  <tbody>\n",
       "    <tr>\n",
       "      <th>0</th>\n",
       "      <td>40</td>\n",
       "      <td>40</td>\n",
       "      <td>40</td>\n",
       "    </tr>\n",
       "    <tr>\n",
       "      <th>1</th>\n",
       "      <td>40</td>\n",
       "      <td>30</td>\n",
       "      <td>30</td>\n",
       "    </tr>\n",
       "    <tr>\n",
       "      <th>2</th>\n",
       "      <td>40</td>\n",
       "      <td>30</td>\n",
       "      <td>30</td>\n",
       "    </tr>\n",
       "    <tr>\n",
       "      <th>3</th>\n",
       "      <td>40</td>\n",
       "      <td>30</td>\n",
       "      <td>30</td>\n",
       "    </tr>\n",
       "    <tr>\n",
       "      <th>4</th>\n",
       "      <td>50</td>\n",
       "      <td>30</td>\n",
       "      <td>30</td>\n",
       "    </tr>\n",
       "  </tbody>\n",
       "</table>\n",
       "</div>"
      ],
      "text/plain": [
       "   sim_supply  sim_demand  sold\n",
       "0          40          40    40\n",
       "1          40          30    30\n",
       "2          40          30    30\n",
       "3          40          30    30\n",
       "4          50          30    30"
      ]
     },
     "execution_count": 19,
     "metadata": {},
     "output_type": "execute_result"
    }
   ],
   "source": [
    "sim_df['sold'] = np.minimum(sim_supply, sim_demand)\n",
    "sim_df.head(5)"
   ]
  },
  {
   "cell_type": "code",
   "execution_count": 20,
   "id": "c1b333fa",
   "metadata": {},
   "outputs": [
    {
     "data": {
      "text/html": [
       "<div>\n",
       "<style scoped>\n",
       "    .dataframe tbody tr th:only-of-type {\n",
       "        vertical-align: middle;\n",
       "    }\n",
       "\n",
       "    .dataframe tbody tr th {\n",
       "        vertical-align: top;\n",
       "    }\n",
       "\n",
       "    .dataframe thead th {\n",
       "        text-align: right;\n",
       "    }\n",
       "</style>\n",
       "<table border=\"1\" class=\"dataframe\">\n",
       "  <thead>\n",
       "    <tr style=\"text-align: right;\">\n",
       "      <th></th>\n",
       "      <th>sim_supply</th>\n",
       "      <th>sim_demand</th>\n",
       "      <th>sold</th>\n",
       "      <th>lost</th>\n",
       "    </tr>\n",
       "  </thead>\n",
       "  <tbody>\n",
       "    <tr>\n",
       "      <th>0</th>\n",
       "      <td>40</td>\n",
       "      <td>40</td>\n",
       "      <td>40</td>\n",
       "      <td>0</td>\n",
       "    </tr>\n",
       "    <tr>\n",
       "      <th>1</th>\n",
       "      <td>40</td>\n",
       "      <td>30</td>\n",
       "      <td>30</td>\n",
       "      <td>10</td>\n",
       "    </tr>\n",
       "    <tr>\n",
       "      <th>2</th>\n",
       "      <td>40</td>\n",
       "      <td>30</td>\n",
       "      <td>30</td>\n",
       "      <td>10</td>\n",
       "    </tr>\n",
       "    <tr>\n",
       "      <th>3</th>\n",
       "      <td>40</td>\n",
       "      <td>30</td>\n",
       "      <td>30</td>\n",
       "      <td>10</td>\n",
       "    </tr>\n",
       "    <tr>\n",
       "      <th>4</th>\n",
       "      <td>50</td>\n",
       "      <td>30</td>\n",
       "      <td>30</td>\n",
       "      <td>20</td>\n",
       "    </tr>\n",
       "  </tbody>\n",
       "</table>\n",
       "</div>"
      ],
      "text/plain": [
       "   sim_supply  sim_demand  sold  lost\n",
       "0          40          40    40     0\n",
       "1          40          30    30    10\n",
       "2          40          30    30    10\n",
       "3          40          30    30    10\n",
       "4          50          30    30    20"
      ]
     },
     "execution_count": 20,
     "metadata": {},
     "output_type": "execute_result"
    }
   ],
   "source": [
    "sim_supply = np.array(sim_supply)\n",
    "sim_demand = np.array(sim_demand)\n",
    "\n",
    "sim_df['lost'] = np.where(sim_supply > sim_demand, sim_supply - sim_demand, 0)\n",
    "sim_df.head(5)"
   ]
  },
  {
   "cell_type": "code",
   "execution_count": 21,
   "id": "efe023c2",
   "metadata": {},
   "outputs": [
    {
     "data": {
      "text/html": [
       "<div>\n",
       "<style scoped>\n",
       "    .dataframe tbody tr th:only-of-type {\n",
       "        vertical-align: middle;\n",
       "    }\n",
       "\n",
       "    .dataframe tbody tr th {\n",
       "        vertical-align: top;\n",
       "    }\n",
       "\n",
       "    .dataframe thead th {\n",
       "        text-align: right;\n",
       "    }\n",
       "</style>\n",
       "<table border=\"1\" class=\"dataframe\">\n",
       "  <thead>\n",
       "    <tr style=\"text-align: right;\">\n",
       "      <th></th>\n",
       "      <th>sim_supply</th>\n",
       "      <th>sim_demand</th>\n",
       "      <th>sold</th>\n",
       "      <th>lost</th>\n",
       "      <th>profit</th>\n",
       "      <th>loss</th>\n",
       "    </tr>\n",
       "  </thead>\n",
       "  <tbody>\n",
       "    <tr>\n",
       "      <th>0</th>\n",
       "      <td>40</td>\n",
       "      <td>40</td>\n",
       "      <td>40</td>\n",
       "      <td>0</td>\n",
       "      <td>400</td>\n",
       "      <td>0</td>\n",
       "    </tr>\n",
       "    <tr>\n",
       "      <th>1</th>\n",
       "      <td>40</td>\n",
       "      <td>30</td>\n",
       "      <td>30</td>\n",
       "      <td>10</td>\n",
       "      <td>300</td>\n",
       "      <td>80</td>\n",
       "    </tr>\n",
       "    <tr>\n",
       "      <th>2</th>\n",
       "      <td>40</td>\n",
       "      <td>30</td>\n",
       "      <td>30</td>\n",
       "      <td>10</td>\n",
       "      <td>300</td>\n",
       "      <td>80</td>\n",
       "    </tr>\n",
       "    <tr>\n",
       "      <th>3</th>\n",
       "      <td>40</td>\n",
       "      <td>30</td>\n",
       "      <td>30</td>\n",
       "      <td>10</td>\n",
       "      <td>300</td>\n",
       "      <td>80</td>\n",
       "    </tr>\n",
       "    <tr>\n",
       "      <th>4</th>\n",
       "      <td>50</td>\n",
       "      <td>30</td>\n",
       "      <td>30</td>\n",
       "      <td>20</td>\n",
       "      <td>300</td>\n",
       "      <td>160</td>\n",
       "    </tr>\n",
       "  </tbody>\n",
       "</table>\n",
       "</div>"
      ],
      "text/plain": [
       "   sim_supply  sim_demand  sold  lost  profit  loss\n",
       "0          40          40    40     0     400     0\n",
       "1          40          30    30    10     300    80\n",
       "2          40          30    30    10     300    80\n",
       "3          40          30    30    10     300    80\n",
       "4          50          30    30    20     300   160"
      ]
     },
     "execution_count": 21,
     "metadata": {},
     "output_type": "execute_result"
    }
   ],
   "source": [
    "sim_df['profit'] = sim_df['sold'] * 10\n",
    "sim_df['loss'] = sim_df['lost'] * 8\n",
    "\n",
    "sim_df.head(5)"
   ]
  },
  {
   "cell_type": "code",
   "execution_count": 22,
   "id": "122c7eef",
   "metadata": {},
   "outputs": [
    {
     "data": {
      "text/html": [
       "<div>\n",
       "<style scoped>\n",
       "    .dataframe tbody tr th:only-of-type {\n",
       "        vertical-align: middle;\n",
       "    }\n",
       "\n",
       "    .dataframe tbody tr th {\n",
       "        vertical-align: top;\n",
       "    }\n",
       "\n",
       "    .dataframe thead th {\n",
       "        text-align: right;\n",
       "    }\n",
       "</style>\n",
       "<table border=\"1\" class=\"dataframe\">\n",
       "  <thead>\n",
       "    <tr style=\"text-align: right;\">\n",
       "      <th></th>\n",
       "      <th>sim_supply</th>\n",
       "      <th>sim_demand</th>\n",
       "      <th>sold</th>\n",
       "      <th>lost</th>\n",
       "      <th>profit</th>\n",
       "      <th>loss</th>\n",
       "      <th>Net_profit</th>\n",
       "    </tr>\n",
       "  </thead>\n",
       "  <tbody>\n",
       "    <tr>\n",
       "      <th>0</th>\n",
       "      <td>40</td>\n",
       "      <td>40</td>\n",
       "      <td>40</td>\n",
       "      <td>0</td>\n",
       "      <td>400</td>\n",
       "      <td>0</td>\n",
       "      <td>400</td>\n",
       "    </tr>\n",
       "    <tr>\n",
       "      <th>1</th>\n",
       "      <td>40</td>\n",
       "      <td>30</td>\n",
       "      <td>30</td>\n",
       "      <td>10</td>\n",
       "      <td>300</td>\n",
       "      <td>80</td>\n",
       "      <td>290</td>\n",
       "    </tr>\n",
       "    <tr>\n",
       "      <th>2</th>\n",
       "      <td>40</td>\n",
       "      <td>30</td>\n",
       "      <td>30</td>\n",
       "      <td>10</td>\n",
       "      <td>300</td>\n",
       "      <td>80</td>\n",
       "      <td>290</td>\n",
       "    </tr>\n",
       "    <tr>\n",
       "      <th>3</th>\n",
       "      <td>40</td>\n",
       "      <td>30</td>\n",
       "      <td>30</td>\n",
       "      <td>10</td>\n",
       "      <td>300</td>\n",
       "      <td>80</td>\n",
       "      <td>290</td>\n",
       "    </tr>\n",
       "    <tr>\n",
       "      <th>4</th>\n",
       "      <td>50</td>\n",
       "      <td>30</td>\n",
       "      <td>30</td>\n",
       "      <td>20</td>\n",
       "      <td>300</td>\n",
       "      <td>160</td>\n",
       "      <td>280</td>\n",
       "    </tr>\n",
       "    <tr>\n",
       "      <th>5</th>\n",
       "      <td>30</td>\n",
       "      <td>40</td>\n",
       "      <td>30</td>\n",
       "      <td>0</td>\n",
       "      <td>300</td>\n",
       "      <td>0</td>\n",
       "      <td>300</td>\n",
       "    </tr>\n",
       "    <tr>\n",
       "      <th>6</th>\n",
       "      <td>20</td>\n",
       "      <td>40</td>\n",
       "      <td>20</td>\n",
       "      <td>0</td>\n",
       "      <td>200</td>\n",
       "      <td>0</td>\n",
       "      <td>200</td>\n",
       "    </tr>\n",
       "    <tr>\n",
       "      <th>7</th>\n",
       "      <td>40</td>\n",
       "      <td>30</td>\n",
       "      <td>30</td>\n",
       "      <td>10</td>\n",
       "      <td>300</td>\n",
       "      <td>80</td>\n",
       "      <td>290</td>\n",
       "    </tr>\n",
       "    <tr>\n",
       "      <th>8</th>\n",
       "      <td>50</td>\n",
       "      <td>40</td>\n",
       "      <td>40</td>\n",
       "      <td>10</td>\n",
       "      <td>400</td>\n",
       "      <td>80</td>\n",
       "      <td>390</td>\n",
       "    </tr>\n",
       "    <tr>\n",
       "      <th>9</th>\n",
       "      <td>20</td>\n",
       "      <td>20</td>\n",
       "      <td>20</td>\n",
       "      <td>0</td>\n",
       "      <td>200</td>\n",
       "      <td>0</td>\n",
       "      <td>200</td>\n",
       "    </tr>\n",
       "    <tr>\n",
       "      <th>10</th>\n",
       "      <td>30</td>\n",
       "      <td>40</td>\n",
       "      <td>30</td>\n",
       "      <td>0</td>\n",
       "      <td>300</td>\n",
       "      <td>0</td>\n",
       "      <td>300</td>\n",
       "    </tr>\n",
       "    <tr>\n",
       "      <th>11</th>\n",
       "      <td>30</td>\n",
       "      <td>30</td>\n",
       "      <td>30</td>\n",
       "      <td>0</td>\n",
       "      <td>300</td>\n",
       "      <td>0</td>\n",
       "      <td>300</td>\n",
       "    </tr>\n",
       "    <tr>\n",
       "      <th>12</th>\n",
       "      <td>30</td>\n",
       "      <td>30</td>\n",
       "      <td>30</td>\n",
       "      <td>0</td>\n",
       "      <td>300</td>\n",
       "      <td>0</td>\n",
       "      <td>300</td>\n",
       "    </tr>\n",
       "    <tr>\n",
       "      <th>13</th>\n",
       "      <td>30</td>\n",
       "      <td>40</td>\n",
       "      <td>30</td>\n",
       "      <td>0</td>\n",
       "      <td>300</td>\n",
       "      <td>0</td>\n",
       "      <td>300</td>\n",
       "    </tr>\n",
       "    <tr>\n",
       "      <th>14</th>\n",
       "      <td>10</td>\n",
       "      <td>40</td>\n",
       "      <td>10</td>\n",
       "      <td>0</td>\n",
       "      <td>100</td>\n",
       "      <td>0</td>\n",
       "      <td>100</td>\n",
       "    </tr>\n",
       "    <tr>\n",
       "      <th>15</th>\n",
       "      <td>30</td>\n",
       "      <td>30</td>\n",
       "      <td>30</td>\n",
       "      <td>0</td>\n",
       "      <td>300</td>\n",
       "      <td>0</td>\n",
       "      <td>300</td>\n",
       "    </tr>\n",
       "    <tr>\n",
       "      <th>16</th>\n",
       "      <td>30</td>\n",
       "      <td>20</td>\n",
       "      <td>20</td>\n",
       "      <td>10</td>\n",
       "      <td>200</td>\n",
       "      <td>80</td>\n",
       "      <td>190</td>\n",
       "    </tr>\n",
       "    <tr>\n",
       "      <th>17</th>\n",
       "      <td>40</td>\n",
       "      <td>30</td>\n",
       "      <td>30</td>\n",
       "      <td>10</td>\n",
       "      <td>300</td>\n",
       "      <td>80</td>\n",
       "      <td>290</td>\n",
       "    </tr>\n",
       "    <tr>\n",
       "      <th>18</th>\n",
       "      <td>30</td>\n",
       "      <td>40</td>\n",
       "      <td>30</td>\n",
       "      <td>0</td>\n",
       "      <td>300</td>\n",
       "      <td>0</td>\n",
       "      <td>300</td>\n",
       "    </tr>\n",
       "    <tr>\n",
       "      <th>19</th>\n",
       "      <td>20</td>\n",
       "      <td>40</td>\n",
       "      <td>20</td>\n",
       "      <td>0</td>\n",
       "      <td>200</td>\n",
       "      <td>0</td>\n",
       "      <td>200</td>\n",
       "    </tr>\n",
       "    <tr>\n",
       "      <th>20</th>\n",
       "      <td>40</td>\n",
       "      <td>30</td>\n",
       "      <td>30</td>\n",
       "      <td>10</td>\n",
       "      <td>300</td>\n",
       "      <td>80</td>\n",
       "      <td>290</td>\n",
       "    </tr>\n",
       "    <tr>\n",
       "      <th>21</th>\n",
       "      <td>10</td>\n",
       "      <td>50</td>\n",
       "      <td>10</td>\n",
       "      <td>0</td>\n",
       "      <td>100</td>\n",
       "      <td>0</td>\n",
       "      <td>100</td>\n",
       "    </tr>\n",
       "    <tr>\n",
       "      <th>22</th>\n",
       "      <td>10</td>\n",
       "      <td>30</td>\n",
       "      <td>10</td>\n",
       "      <td>0</td>\n",
       "      <td>100</td>\n",
       "      <td>0</td>\n",
       "      <td>100</td>\n",
       "    </tr>\n",
       "    <tr>\n",
       "      <th>23</th>\n",
       "      <td>40</td>\n",
       "      <td>20</td>\n",
       "      <td>20</td>\n",
       "      <td>20</td>\n",
       "      <td>200</td>\n",
       "      <td>160</td>\n",
       "      <td>180</td>\n",
       "    </tr>\n",
       "    <tr>\n",
       "      <th>24</th>\n",
       "      <td>40</td>\n",
       "      <td>30</td>\n",
       "      <td>30</td>\n",
       "      <td>10</td>\n",
       "      <td>300</td>\n",
       "      <td>80</td>\n",
       "      <td>290</td>\n",
       "    </tr>\n",
       "    <tr>\n",
       "      <th>25</th>\n",
       "      <td>30</td>\n",
       "      <td>30</td>\n",
       "      <td>30</td>\n",
       "      <td>0</td>\n",
       "      <td>300</td>\n",
       "      <td>0</td>\n",
       "      <td>300</td>\n",
       "    </tr>\n",
       "    <tr>\n",
       "      <th>26</th>\n",
       "      <td>40</td>\n",
       "      <td>20</td>\n",
       "      <td>20</td>\n",
       "      <td>20</td>\n",
       "      <td>200</td>\n",
       "      <td>160</td>\n",
       "      <td>180</td>\n",
       "    </tr>\n",
       "    <tr>\n",
       "      <th>27</th>\n",
       "      <td>40</td>\n",
       "      <td>10</td>\n",
       "      <td>10</td>\n",
       "      <td>30</td>\n",
       "      <td>100</td>\n",
       "      <td>240</td>\n",
       "      <td>70</td>\n",
       "    </tr>\n",
       "    <tr>\n",
       "      <th>28</th>\n",
       "      <td>30</td>\n",
       "      <td>30</td>\n",
       "      <td>30</td>\n",
       "      <td>0</td>\n",
       "      <td>300</td>\n",
       "      <td>0</td>\n",
       "      <td>300</td>\n",
       "    </tr>\n",
       "    <tr>\n",
       "      <th>29</th>\n",
       "      <td>30</td>\n",
       "      <td>30</td>\n",
       "      <td>30</td>\n",
       "      <td>0</td>\n",
       "      <td>300</td>\n",
       "      <td>0</td>\n",
       "      <td>300</td>\n",
       "    </tr>\n",
       "  </tbody>\n",
       "</table>\n",
       "</div>"
      ],
      "text/plain": [
       "    sim_supply  sim_demand  sold  lost  profit  loss  Net_profit\n",
       "0           40          40    40     0     400     0         400\n",
       "1           40          30    30    10     300    80         290\n",
       "2           40          30    30    10     300    80         290\n",
       "3           40          30    30    10     300    80         290\n",
       "4           50          30    30    20     300   160         280\n",
       "5           30          40    30     0     300     0         300\n",
       "6           20          40    20     0     200     0         200\n",
       "7           40          30    30    10     300    80         290\n",
       "8           50          40    40    10     400    80         390\n",
       "9           20          20    20     0     200     0         200\n",
       "10          30          40    30     0     300     0         300\n",
       "11          30          30    30     0     300     0         300\n",
       "12          30          30    30     0     300     0         300\n",
       "13          30          40    30     0     300     0         300\n",
       "14          10          40    10     0     100     0         100\n",
       "15          30          30    30     0     300     0         300\n",
       "16          30          20    20    10     200    80         190\n",
       "17          40          30    30    10     300    80         290\n",
       "18          30          40    30     0     300     0         300\n",
       "19          20          40    20     0     200     0         200\n",
       "20          40          30    30    10     300    80         290\n",
       "21          10          50    10     0     100     0         100\n",
       "22          10          30    10     0     100     0         100\n",
       "23          40          20    20    20     200   160         180\n",
       "24          40          30    30    10     300    80         290\n",
       "25          30          30    30     0     300     0         300\n",
       "26          40          20    20    20     200   160         180\n",
       "27          40          10    10    30     100   240          70\n",
       "28          30          30    30     0     300     0         300\n",
       "29          30          30    30     0     300     0         300"
      ]
     },
     "execution_count": 22,
     "metadata": {},
     "output_type": "execute_result"
    }
   ],
   "source": [
    "sim_df['Net_profit'] = sim_df['profit'] - sim_df['lost']\n",
    "sim_df"
   ]
  },
  {
   "cell_type": "markdown",
   "id": "28f2edbf",
   "metadata": {},
   "source": [
    "# Books Customer"
   ]
  },
  {
   "cell_type": "code",
   "execution_count": 23,
   "id": "a2112aa8",
   "metadata": {},
   "outputs": [],
   "source": [
    "random = np.random.rand(20)\n",
    "\n",
    "book_cus = np.array([0,1,2,4,5,7,8,9,10,15])\n",
    "prob = np.array([2,27,15,21,9,4,1,2,1,1])/83\n",
    "cumu = np.cumsum(prob)"
   ]
  },
  {
   "cell_type": "code",
   "execution_count": 24,
   "id": "1ae657e0",
   "metadata": {},
   "outputs": [
    {
     "name": "stdout",
     "output_type": "stream",
     "text": [
      "[ True  True  True False False False False False False False]\n",
      "3\n",
      "[4, 4, 1, 1, 2, 4, 5, 1, 9, 5, 5, 1, 1, 1, 5, 1, 1, 4, 2, 4]\n"
     ]
    }
   ],
   "source": [
    "sim = []\n",
    "\n",
    "for d in random:\n",
    "    finding = d > cumu\n",
    "    i_finding = np.sum(finding)\n",
    "    sim.append(book_cus[i_finding])\n",
    "\n",
    "print(finding)\n",
    "print(i_finding)\n",
    "print(sim)"
   ]
  },
  {
   "cell_type": "code",
   "execution_count": 25,
   "id": "0f762818",
   "metadata": {},
   "outputs": [
    {
     "name": "stdout",
     "output_type": "stream",
     "text": [
      "Mean of Simulated = 3.05\n"
     ]
    }
   ],
   "source": [
    "print(\"Mean of Simulated =\", np.mean(sim))"
   ]
  },
  {
   "cell_type": "code",
   "execution_count": null,
   "id": "127c87a9",
   "metadata": {},
   "outputs": [],
   "source": []
  }
 ],
 "metadata": {
  "kernelspec": {
   "display_name": "Python 3 (ipykernel)",
   "language": "python",
   "name": "python3"
  },
  "language_info": {
   "codemirror_mode": {
    "name": "ipython",
    "version": 3
   },
   "file_extension": ".py",
   "mimetype": "text/x-python",
   "name": "python",
   "nbconvert_exporter": "python",
   "pygments_lexer": "ipython3",
   "version": "3.10.9"
  }
 },
 "nbformat": 4,
 "nbformat_minor": 5
}
