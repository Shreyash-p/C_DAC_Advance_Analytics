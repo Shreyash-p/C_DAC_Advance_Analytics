{
 "cells": [
  {
   "cell_type": "code",
   "execution_count": 1,
   "id": "7d529457",
   "metadata": {},
   "outputs": [],
   "source": [
    "import pulp as p"
   ]
  },
  {
   "cell_type": "markdown",
   "id": "59926ed5",
   "metadata": {},
   "source": [
    "# Problem 1"
   ]
  },
  {
   "cell_type": "markdown",
   "id": "4142cb6e",
   "metadata": {},
   "source": [
    "### Maximization"
   ]
  },
  {
   "cell_type": "code",
   "execution_count": 2,
   "id": "0183211a",
   "metadata": {},
   "outputs": [],
   "source": [
    "Lp_prob = p.LpProblem('Problem1', p.LpMaximize)"
   ]
  },
  {
   "cell_type": "markdown",
   "id": "1f156073",
   "metadata": {},
   "source": [
    "### Decision Variables "
   ]
  },
  {
   "cell_type": "code",
   "execution_count": 3,
   "id": "d2eb6c14",
   "metadata": {},
   "outputs": [],
   "source": [
    "x1 = p.LpVariable(\"x1\", lowBound = 0) # Create a variable x >= 0\n",
    "x2 = p.LpVariable(\"x2\", lowBound = 0) # Create a variable y >= 0"
   ]
  },
  {
   "cell_type": "markdown",
   "id": "b84acf28",
   "metadata": {},
   "source": [
    "### Objective Function "
   ]
  },
  {
   "cell_type": "code",
   "execution_count": 4,
   "id": "a02b10d7",
   "metadata": {},
   "outputs": [],
   "source": [
    "Lp_prob += 5*x1 + 7*x2"
   ]
  },
  {
   "cell_type": "markdown",
   "id": "e7f32170",
   "metadata": {},
   "source": [
    "### Constraints "
   ]
  },
  {
   "cell_type": "code",
   "execution_count": 5,
   "id": "dd0d60f4",
   "metadata": {},
   "outputs": [],
   "source": [
    "Lp_prob += 1*x1 + 0*x2 <= 6\n",
    "Lp_prob += 2*x1 + 3*x2 <= 19\n",
    "Lp_prob += 1*x1 + 1*x2 <= 8"
   ]
  },
  {
   "cell_type": "code",
   "execution_count": 6,
   "id": "6ba04eb0",
   "metadata": {},
   "outputs": [
    {
     "name": "stdout",
     "output_type": "stream",
     "text": [
      "Problem1:\n",
      "MAXIMIZE\n",
      "5*x1 + 7*x2 + 0\n",
      "SUBJECT TO\n",
      "_C1: x1 <= 6\n",
      "\n",
      "_C2: 2 x1 + 3 x2 <= 19\n",
      "\n",
      "_C3: x1 + x2 <= 8\n",
      "\n",
      "VARIABLES\n",
      "x1 Continuous\n",
      "x2 Continuous\n",
      "\n"
     ]
    }
   ],
   "source": [
    "print(Lp_prob)"
   ]
  },
  {
   "cell_type": "markdown",
   "id": "28b23bc5",
   "metadata": {},
   "source": [
    "### Solving the LPP "
   ]
  },
  {
   "cell_type": "code",
   "execution_count": 7,
   "id": "aae71aeb",
   "metadata": {},
   "outputs": [
    {
     "name": "stdout",
     "output_type": "stream",
     "text": [
      "Optimal\n"
     ]
    }
   ],
   "source": [
    "status = Lp_prob.solve()\n",
    "print(p.LpStatus[status])"
   ]
  },
  {
   "cell_type": "markdown",
   "id": "b25d8819",
   "metadata": {},
   "source": [
    "### Solution "
   ]
  },
  {
   "cell_type": "code",
   "execution_count": 8,
   "id": "8a2452b8",
   "metadata": {},
   "outputs": [
    {
     "name": "stdout",
     "output_type": "stream",
     "text": [
      "x1 = 5.0\n",
      "x2 = 3.0\n",
      "Objective =  46.0\n"
     ]
    }
   ],
   "source": [
    "print(\"x1 =\", p.value(x1)) \n",
    "print(\"x2 =\", p.value(x2))\n",
    "print(\"Objective = \", p.value(Lp_prob.objective))"
   ]
  },
  {
   "cell_type": "code",
   "execution_count": null,
   "id": "48fce2f1",
   "metadata": {},
   "outputs": [],
   "source": []
  },
  {
   "cell_type": "markdown",
   "id": "a5c5685f",
   "metadata": {},
   "source": [
    "# Problem 2"
   ]
  },
  {
   "cell_type": "markdown",
   "id": "69f244c1",
   "metadata": {},
   "source": [
    "### Minimization"
   ]
  },
  {
   "cell_type": "code",
   "execution_count": 9,
   "id": "6c57e4cb",
   "metadata": {},
   "outputs": [],
   "source": [
    "Lp_prob = p.LpProblem('Breweries', p.LpMinimize)"
   ]
  },
  {
   "cell_type": "markdown",
   "id": "bae06555",
   "metadata": {},
   "source": [
    "### Decision Variables "
   ]
  },
  {
   "cell_type": "code",
   "execution_count": 10,
   "id": "1f2660d5",
   "metadata": {},
   "outputs": [],
   "source": [
    "x1 = p.LpVariable(\"Solan\", lowBound = 0,upBound = 30 ) # Create a variable x >= 0\n",
    "x2 = p.LpVariable(\"Mohan Nagar\", lowBound = 0, upBound = 30) # Create a variable y >= 0"
   ]
  },
  {
   "cell_type": "markdown",
   "id": "d0920134",
   "metadata": {},
   "source": [
    "### Objective Function "
   ]
  },
  {
   "cell_type": "code",
   "execution_count": 11,
   "id": "0ad207c0",
   "metadata": {},
   "outputs": [],
   "source": [
    "Lp_prob += 600*x1 + 400*x2"
   ]
  },
  {
   "cell_type": "markdown",
   "id": "adfd8382",
   "metadata": {},
   "source": [
    "### Constraints "
   ]
  },
  {
   "cell_type": "code",
   "execution_count": 12,
   "id": "88b2138a",
   "metadata": {},
   "outputs": [],
   "source": [
    "Lp_prob += 1500*x1 + 1500*x2 >= 20000\n",
    "Lp_prob += 3000*x1 + 1000*x2 >= 40000\n",
    "Lp_prob += 2000*x1 + 5000*x2 >= 44000"
   ]
  },
  {
   "cell_type": "code",
   "execution_count": 13,
   "id": "a828b6b5",
   "metadata": {},
   "outputs": [
    {
     "name": "stdout",
     "output_type": "stream",
     "text": [
      "Breweries:\n",
      "MINIMIZE\n",
      "400*Mohan_Nagar + 600*Solan + 0\n",
      "SUBJECT TO\n",
      "_C1: 1500 Mohan_Nagar + 1500 Solan >= 20000\n",
      "\n",
      "_C2: 1000 Mohan_Nagar + 3000 Solan >= 40000\n",
      "\n",
      "_C3: 5000 Mohan_Nagar + 2000 Solan >= 44000\n",
      "\n",
      "VARIABLES\n",
      "Mohan_Nagar <= 30 Continuous\n",
      "Solan <= 30 Continuous\n",
      "\n"
     ]
    }
   ],
   "source": [
    "print(Lp_prob)"
   ]
  },
  {
   "cell_type": "markdown",
   "id": "39738dc2",
   "metadata": {},
   "source": [
    "### Solving the LPP "
   ]
  },
  {
   "cell_type": "code",
   "execution_count": 14,
   "id": "9c579adc",
   "metadata": {},
   "outputs": [
    {
     "name": "stdout",
     "output_type": "stream",
     "text": [
      "Optimal\n"
     ]
    }
   ],
   "source": [
    "status = Lp_prob.solve()\n",
    "print(p.LpStatus[status])"
   ]
  },
  {
   "cell_type": "markdown",
   "id": "6178e7ae",
   "metadata": {},
   "source": [
    "### Solution "
   ]
  },
  {
   "cell_type": "code",
   "execution_count": 15,
   "id": "e97b591d",
   "metadata": {},
   "outputs": [
    {
     "name": "stdout",
     "output_type": "stream",
     "text": [
      "x1 = 12.0\n",
      "x2 = 4.0\n",
      "Objective =  8800.0\n"
     ]
    }
   ],
   "source": [
    "print(\"x1 =\", p.value(x1)) \n",
    "print(\"x2 =\", p.value(x2))\n",
    "print(\"Objective = \", p.value(Lp_prob.objective))"
   ]
  },
  {
   "cell_type": "code",
   "execution_count": null,
   "id": "e6566530",
   "metadata": {},
   "outputs": [],
   "source": []
  },
  {
   "cell_type": "markdown",
   "id": "83d5888a",
   "metadata": {},
   "source": [
    "# Problem 3"
   ]
  },
  {
   "cell_type": "markdown",
   "id": "84629e25",
   "metadata": {},
   "source": [
    "### Maximization"
   ]
  },
  {
   "cell_type": "code",
   "execution_count": 16,
   "id": "d0c8f898",
   "metadata": {},
   "outputs": [],
   "source": [
    "Lp_prob = p.LpProblem('Manufacturing', p.LpMaximize)"
   ]
  },
  {
   "cell_type": "markdown",
   "id": "9d6c089d",
   "metadata": {},
   "source": [
    "### Decision Variables "
   ]
  },
  {
   "cell_type": "code",
   "execution_count": 17,
   "id": "85e69c36",
   "metadata": {},
   "outputs": [],
   "source": [
    "x1 = p.LpVariable(\"A\", lowBound = 0, ) # Create a variable x >= 0\n",
    "x2 = p.LpVariable(\"B\", lowBound = 0) # Create a variable y >= 0"
   ]
  },
  {
   "cell_type": "markdown",
   "id": "1629a9ea",
   "metadata": {},
   "source": [
    "### Objective Function "
   ]
  },
  {
   "cell_type": "code",
   "execution_count": 18,
   "id": "6e50e869",
   "metadata": {},
   "outputs": [],
   "source": [
    "Lp_prob += 40*x1 + 100*x2"
   ]
  },
  {
   "cell_type": "markdown",
   "id": "13fe165e",
   "metadata": {},
   "source": [
    "### Constraints "
   ]
  },
  {
   "cell_type": "code",
   "execution_count": 19,
   "id": "e07bbb11",
   "metadata": {},
   "outputs": [],
   "source": [
    "Lp_prob += 12*x1 + 6*x2 <= 3000\n",
    "Lp_prob += 4*x1 + 10*x2 <= 2000\n",
    "Lp_prob += 2*x1 + 3*x2 <= 900"
   ]
  },
  {
   "cell_type": "code",
   "execution_count": 20,
   "id": "1ca9c3a1",
   "metadata": {},
   "outputs": [
    {
     "name": "stdout",
     "output_type": "stream",
     "text": [
      "Manufacturing:\n",
      "MAXIMIZE\n",
      "40*A + 100*B + 0\n",
      "SUBJECT TO\n",
      "_C1: 12 A + 6 B <= 3000\n",
      "\n",
      "_C2: 4 A + 10 B <= 2000\n",
      "\n",
      "_C3: 2 A + 3 B <= 900\n",
      "\n",
      "VARIABLES\n",
      "A Continuous\n",
      "B Continuous\n",
      "\n"
     ]
    }
   ],
   "source": [
    "print(Lp_prob)"
   ]
  },
  {
   "cell_type": "markdown",
   "id": "dae4b18d",
   "metadata": {},
   "source": [
    "### Solving the LPP "
   ]
  },
  {
   "cell_type": "code",
   "execution_count": 21,
   "id": "f680dab5",
   "metadata": {},
   "outputs": [
    {
     "name": "stdout",
     "output_type": "stream",
     "text": [
      "Optimal\n"
     ]
    }
   ],
   "source": [
    "status = Lp_prob.solve()\n",
    "print(p.LpStatus[status])"
   ]
  },
  {
   "cell_type": "markdown",
   "id": "46b5f71c",
   "metadata": {},
   "source": [
    "### Solution "
   ]
  },
  {
   "cell_type": "code",
   "execution_count": 22,
   "id": "963d8ce6",
   "metadata": {},
   "outputs": [
    {
     "name": "stdout",
     "output_type": "stream",
     "text": [
      "x1 = 0.0\n",
      "x2 = 200.0\n",
      "Objective =  20000.0\n"
     ]
    }
   ],
   "source": [
    "print(\"x1 =\", p.value(x1)) \n",
    "print(\"x2 =\", p.value(x2))\n",
    "print(\"Objective = \", p.value(Lp_prob.objective))"
   ]
  },
  {
   "cell_type": "markdown",
   "id": "488615c0",
   "metadata": {},
   "source": [
    "# Problem 4"
   ]
  },
  {
   "cell_type": "markdown",
   "id": "9b03f957",
   "metadata": {},
   "source": [
    "### Maximization"
   ]
  },
  {
   "cell_type": "code",
   "execution_count": 23,
   "id": "62a6675a",
   "metadata": {},
   "outputs": [],
   "source": [
    "Lp_prob = p.LpProblem('Advertising', p.LpMaximize)"
   ]
  },
  {
   "cell_type": "markdown",
   "id": "b12ae957",
   "metadata": {},
   "source": [
    "### Desicion Variables"
   ]
  },
  {
   "cell_type": "code",
   "execution_count": 24,
   "id": "91ed73bd",
   "metadata": {},
   "outputs": [],
   "source": [
    "x1 = p.LpVariable(\"Radio\", lowBound = 0, ) # Create a variable x >= 0\n",
    "x2 = p.LpVariable(\"TV\", lowBound = 0) # Create a variable y >= 0"
   ]
  },
  {
   "cell_type": "markdown",
   "id": "9c1b1431",
   "metadata": {},
   "source": [
    "### Objective Function "
   ]
  },
  {
   "cell_type": "code",
   "execution_count": 25,
   "id": "842e3030",
   "metadata": {},
   "outputs": [],
   "source": [
    "Lp_prob += 350*x1 + 800*x2"
   ]
  },
  {
   "cell_type": "markdown",
   "id": "a7e7ebdc",
   "metadata": {},
   "source": [
    "### Constraints "
   ]
  },
  {
   "cell_type": "code",
   "execution_count": 26,
   "id": "62e365b0",
   "metadata": {},
   "outputs": [],
   "source": [
    "Lp_prob += 400*x1 + 2000*x2 <= 25000\n",
    "Lp_prob += 0.75*x1 - 0.25*x2 <= 0"
   ]
  },
  {
   "cell_type": "code",
   "execution_count": 27,
   "id": "0b1ecb48",
   "metadata": {},
   "outputs": [
    {
     "name": "stdout",
     "output_type": "stream",
     "text": [
      "Advertising:\n",
      "MAXIMIZE\n",
      "350*Radio + 800*TV + 0\n",
      "SUBJECT TO\n",
      "_C1: 400 Radio + 2000 TV <= 25000\n",
      "\n",
      "_C2: 0.75 Radio - 0.25 TV <= 0\n",
      "\n",
      "VARIABLES\n",
      "Radio Continuous\n",
      "TV Continuous\n",
      "\n"
     ]
    }
   ],
   "source": [
    "print(Lp_prob)"
   ]
  },
  {
   "cell_type": "markdown",
   "id": "d73dc5e9",
   "metadata": {},
   "source": [
    "### Solving the LPP "
   ]
  },
  {
   "cell_type": "code",
   "execution_count": 28,
   "id": "60c07247",
   "metadata": {},
   "outputs": [
    {
     "name": "stdout",
     "output_type": "stream",
     "text": [
      "Optimal\n"
     ]
    }
   ],
   "source": [
    "status = Lp_prob.solve()\n",
    "print(p.LpStatus[status])"
   ]
  },
  {
   "cell_type": "markdown",
   "id": "6c7d5d7a",
   "metadata": {},
   "source": [
    "### Solution "
   ]
  },
  {
   "cell_type": "code",
   "execution_count": 29,
   "id": "22751879",
   "metadata": {},
   "outputs": [
    {
     "name": "stdout",
     "output_type": "stream",
     "text": [
      "x1 = 3.90625\n",
      "x2 = 11.71875\n",
      "Objective =  10742.1875\n"
     ]
    }
   ],
   "source": [
    "print(\"x1 =\", p.value(x1)) \n",
    "print(\"x2 =\", p.value(x2))\n",
    "print(\"Objective = \", p.value(Lp_prob.objective))"
   ]
  },
  {
   "cell_type": "markdown",
   "id": "77f6e01c",
   "metadata": {},
   "source": [
    "# Problem 5"
   ]
  },
  {
   "cell_type": "markdown",
   "id": "67744a7e",
   "metadata": {},
   "source": [
    "### Maximization"
   ]
  },
  {
   "cell_type": "code",
   "execution_count": 30,
   "id": "84678fc2",
   "metadata": {},
   "outputs": [],
   "source": [
    "Lp_prob = p.LpProblem('Florist', p.LpMaximize)"
   ]
  },
  {
   "cell_type": "markdown",
   "id": "0e630f5f",
   "metadata": {},
   "source": [
    "### Desicion Variables"
   ]
  },
  {
   "cell_type": "code",
   "execution_count": 31,
   "id": "55d25c03",
   "metadata": {},
   "outputs": [],
   "source": [
    "x1 = p.LpVariable(\"T1\", lowBound = 0, cat='Integer') # Create a variable x >= 0\n",
    "x2 = p.LpVariable(\"T2\", lowBound = 0, cat='Integer') # Create a variable y >= 0\n",
    "x3 = p.LpVariable(\"T3\", lowBound = 0, cat='Integer')"
   ]
  },
  {
   "cell_type": "markdown",
   "id": "f31a3fcf",
   "metadata": {},
   "source": [
    "### Objective Function "
   ]
  },
  {
   "cell_type": "code",
   "execution_count": 32,
   "id": "39e58c8f",
   "metadata": {},
   "outputs": [],
   "source": [
    "Lp_prob += 20*x1 + 58*x2 + 39*x3\n",
    "Lp_prob += 3*x1 + 2*x2 + 5*x3 <= 540\n",
    "Lp_prob += 2*x1 + 4*x2 + 0*x3 <= 320\n",
    "Lp_prob += 2*x1 + 1*x2 + 2*x3 <= 106\n",
    "Lp_prob += 4*x1 + 3*x2 + 4*x3 <= 273"
   ]
  },
  {
   "cell_type": "markdown",
   "id": "4c33390e",
   "metadata": {},
   "source": [
    "### Constraints "
   ]
  },
  {
   "cell_type": "code",
   "execution_count": 33,
   "id": "401105e9",
   "metadata": {},
   "outputs": [
    {
     "name": "stdout",
     "output_type": "stream",
     "text": [
      "Florist:\n",
      "MAXIMIZE\n",
      "20*T1 + 58*T2 + 39*T3 + 0\n",
      "SUBJECT TO\n",
      "_C1: 3 T1 + 2 T2 + 5 T3 <= 540\n",
      "\n",
      "_C2: 2 T1 + 4 T2 <= 320\n",
      "\n",
      "_C3: 2 T1 + T2 + 2 T3 <= 106\n",
      "\n",
      "_C4: 4 T1 + 3 T2 + 4 T3 <= 273\n",
      "\n",
      "VARIABLES\n",
      "0 <= T1 Integer\n",
      "0 <= T2 Integer\n",
      "0 <= T3 Integer\n",
      "\n"
     ]
    }
   ],
   "source": [
    "print(Lp_prob)"
   ]
  },
  {
   "cell_type": "markdown",
   "id": "ad340e59",
   "metadata": {},
   "source": [
    "### Solving the LPP "
   ]
  },
  {
   "cell_type": "code",
   "execution_count": 34,
   "id": "5f694824",
   "metadata": {},
   "outputs": [
    {
     "name": "stdout",
     "output_type": "stream",
     "text": [
      "Optimal\n"
     ]
    }
   ],
   "source": [
    "status = Lp_prob.solve()\n",
    "print(p.LpStatus[status])"
   ]
  },
  {
   "cell_type": "markdown",
   "id": "b303bce7",
   "metadata": {},
   "source": [
    "### Solution "
   ]
  },
  {
   "cell_type": "code",
   "execution_count": 35,
   "id": "56b6927d",
   "metadata": {},
   "outputs": [
    {
     "name": "stdout",
     "output_type": "stream",
     "text": [
      "x1 = 0.0\n",
      "x2 = 80.0\n",
      "x3 = 8.0\n",
      "Objective =  4952.0\n"
     ]
    }
   ],
   "source": [
    "print(\"x1 =\", p.value(x1)) \n",
    "print(\"x2 =\", p.value(x2))\n",
    "print(\"x3 =\", p.value(x3))\n",
    "print(\"Objective = \", p.value(Lp_prob.objective))"
   ]
  },
  {
   "cell_type": "markdown",
   "id": "a5a61121",
   "metadata": {},
   "source": [
    "# Problem 6"
   ]
  },
  {
   "cell_type": "markdown",
   "id": "307834f6",
   "metadata": {},
   "source": [
    "### Maximization"
   ]
  },
  {
   "cell_type": "code",
   "execution_count": 36,
   "id": "fe2f8ff1",
   "metadata": {},
   "outputs": [],
   "source": [
    "Lp_prob = p.LpProblem('Valencia', p.LpMaximize)"
   ]
  },
  {
   "cell_type": "markdown",
   "id": "d280215c",
   "metadata": {},
   "source": [
    "### Desicion Variables"
   ]
  },
  {
   "cell_type": "code",
   "execution_count": 37,
   "id": "d9006800",
   "metadata": {},
   "outputs": [],
   "source": [
    "x1 = p.LpVariable(\"LaserStop\", lowBound = 0, cat='Integer') # Create a variable x >= 0\n",
    "x2 = p.LpVariable(\"SpeedBuster\", lowBound = 0, cat='Integer') # Create a variable y >= 0"
   ]
  },
  {
   "cell_type": "markdown",
   "id": "6d21f06b",
   "metadata": {},
   "source": [
    "### Objective Function "
   ]
  },
  {
   "cell_type": "code",
   "execution_count": 38,
   "id": "52d4389f",
   "metadata": {},
   "outputs": [],
   "source": [
    "Lp_prob += 124*x1 + 136*x2\n",
    "Lp_prob += 18*x1 + 12*x2 <= 4000\n",
    "Lp_prob += 6*x1 + 8*x2 <= 3500"
   ]
  },
  {
   "cell_type": "markdown",
   "id": "f8e15ad6",
   "metadata": {},
   "source": [
    "### Constraints "
   ]
  },
  {
   "cell_type": "code",
   "execution_count": 39,
   "id": "be13eb2a",
   "metadata": {},
   "outputs": [
    {
     "name": "stdout",
     "output_type": "stream",
     "text": [
      "Valencia:\n",
      "MAXIMIZE\n",
      "124*LaserStop + 136*SpeedBuster + 0\n",
      "SUBJECT TO\n",
      "_C1: 18 LaserStop + 12 SpeedBuster <= 4000\n",
      "\n",
      "_C2: 6 LaserStop + 8 SpeedBuster <= 3500\n",
      "\n",
      "VARIABLES\n",
      "0 <= LaserStop Integer\n",
      "0 <= SpeedBuster Integer\n",
      "\n"
     ]
    }
   ],
   "source": [
    "print(Lp_prob)"
   ]
  },
  {
   "cell_type": "markdown",
   "id": "64f5cbfa",
   "metadata": {},
   "source": [
    "### Solving the LPP "
   ]
  },
  {
   "cell_type": "code",
   "execution_count": 40,
   "id": "51231932",
   "metadata": {},
   "outputs": [
    {
     "name": "stdout",
     "output_type": "stream",
     "text": [
      "Optimal\n"
     ]
    }
   ],
   "source": [
    "status = Lp_prob.solve()\n",
    "print(p.LpStatus[status])"
   ]
  },
  {
   "cell_type": "markdown",
   "id": "a526cc99",
   "metadata": {},
   "source": [
    "### Solution "
   ]
  },
  {
   "cell_type": "code",
   "execution_count": 41,
   "id": "45732852",
   "metadata": {},
   "outputs": [
    {
     "name": "stdout",
     "output_type": "stream",
     "text": [
      "x1 = 0.0\n",
      "x2 = 333.0\n",
      "Objective =  45288.0\n"
     ]
    }
   ],
   "source": [
    "print(\"x1 =\", p.value(x1)) \n",
    "print(\"x2 =\", p.value(x2))\n",
    "print(\"Objective = \", p.value(Lp_prob.objective))"
   ]
  },
  {
   "cell_type": "markdown",
   "id": "ae4634f6",
   "metadata": {},
   "source": [
    "# Problem 6"
   ]
  },
  {
   "cell_type": "markdown",
   "id": "64b47125",
   "metadata": {},
   "source": [
    "### Maximization"
   ]
  },
  {
   "cell_type": "code",
   "execution_count": 42,
   "id": "fa4719ff",
   "metadata": {},
   "outputs": [],
   "source": [
    "Lp_prob = p.LpProblem('PaperMill', p.LpMaximize)"
   ]
  },
  {
   "cell_type": "markdown",
   "id": "ee06909e",
   "metadata": {},
   "source": [
    "### Desicion Variables"
   ]
  },
  {
   "cell_type": "code",
   "execution_count": 43,
   "id": "a7ae2c7a",
   "metadata": {},
   "outputs": [],
   "source": [
    "x1 = p.LpVariable(\"x\", lowBound = 0)\n",
    "x2 = p.LpVariable(\"y\", lowBound = 0)\n",
    "x3 = p.LpVariable(\"z\", lowBound = 0)"
   ]
  },
  {
   "cell_type": "markdown",
   "id": "560d5136",
   "metadata": {},
   "source": [
    "### Objective Function "
   ]
  },
  {
   "cell_type": "code",
   "execution_count": 44,
   "id": "5bf06166",
   "metadata": {},
   "outputs": [],
   "source": [
    "Lp_prob += 30*x1 + 40*x2 + 20*x3\n",
    "Lp_prob += 10*x1 + 12*x2 + 7*x3 <= 100000"
   ]
  },
  {
   "cell_type": "markdown",
   "id": "9fe71cfb",
   "metadata": {},
   "source": [
    "### Constraints "
   ]
  },
  {
   "cell_type": "code",
   "execution_count": 45,
   "id": "38703791",
   "metadata": {},
   "outputs": [
    {
     "name": "stdout",
     "output_type": "stream",
     "text": [
      "PaperMill:\n",
      "MAXIMIZE\n",
      "30*x + 40*y + 20*z + 0\n",
      "SUBJECT TO\n",
      "_C1: 10 x + 12 y + 7 z <= 100000\n",
      "\n",
      "VARIABLES\n",
      "x Continuous\n",
      "y Continuous\n",
      "z Continuous\n",
      "\n"
     ]
    }
   ],
   "source": [
    "print(Lp_prob)"
   ]
  },
  {
   "cell_type": "markdown",
   "id": "b6d26896",
   "metadata": {},
   "source": [
    "### Solving the LPP "
   ]
  },
  {
   "cell_type": "code",
   "execution_count": 46,
   "id": "6b9206ee",
   "metadata": {},
   "outputs": [
    {
     "name": "stdout",
     "output_type": "stream",
     "text": [
      "Optimal\n"
     ]
    }
   ],
   "source": [
    "status = Lp_prob.solve()\n",
    "print(p.LpStatus[status])"
   ]
  },
  {
   "cell_type": "markdown",
   "id": "8d8a62a3",
   "metadata": {},
   "source": [
    "### Solution "
   ]
  },
  {
   "cell_type": "code",
   "execution_count": 47,
   "id": "dc945430",
   "metadata": {},
   "outputs": [
    {
     "name": "stdout",
     "output_type": "stream",
     "text": [
      "x = 0.0\n",
      "y = 8333.3333\n",
      "z = 8333.3333\n",
      "Objective =  333333.332\n"
     ]
    }
   ],
   "source": [
    "print(\"x =\", p.value(x1)) \n",
    "print(\"y =\", p.value(x2))\n",
    "print(\"z =\", p.value(x2))\n",
    "print(\"Objective = \", p.value(Lp_prob.objective))"
   ]
  },
  {
   "cell_type": "code",
   "execution_count": null,
   "id": "2139d8ad",
   "metadata": {},
   "outputs": [],
   "source": []
  }
 ],
 "metadata": {
  "kernelspec": {
   "display_name": "Python 3 (ipykernel)",
   "language": "python",
   "name": "python3"
  },
  "language_info": {
   "codemirror_mode": {
    "name": "ipython",
    "version": 3
   },
   "file_extension": ".py",
   "mimetype": "text/x-python",
   "name": "python",
   "nbconvert_exporter": "python",
   "pygments_lexer": "ipython3",
   "version": "3.10.9"
  }
 },
 "nbformat": 4,
 "nbformat_minor": 5
}
