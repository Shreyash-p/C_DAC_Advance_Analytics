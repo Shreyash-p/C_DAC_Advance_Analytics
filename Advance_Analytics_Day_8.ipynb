{
 "cells": [
  {
   "cell_type": "code",
   "execution_count": 1,
   "id": "b3c82309",
   "metadata": {},
   "outputs": [],
   "source": [
    "import numpy as np\n",
    "import pandas as pd\n",
    "import seaborn as sns\n",
    "import matplotlib.pyplot as plt\n",
    "from scipy import stats\n",
    "import statistics\n",
    "from scipy.stats import binom , poisson, norm"
   ]
  },
  {
   "cell_type": "markdown",
   "id": "40ae30f0",
   "metadata": {},
   "source": [
    "## 1) Suppose IQ scores are normally distributed with mean 100 and standard deviation 15. What is the 95th percentile of the distribution of IQ scores ?"
   ]
  },
  {
   "cell_type": "code",
   "execution_count": 2,
   "id": "ca38547a",
   "metadata": {},
   "outputs": [
    {
     "data": {
      "text/plain": [
       "124.67280440427209"
      ]
     },
     "execution_count": 2,
     "metadata": {},
     "output_type": "execute_result"
    }
   ],
   "source": [
    "norm.ppf(0.95,100,15)"
   ]
  },
  {
   "cell_type": "markdown",
   "id": "4f37a4b9",
   "metadata": {},
   "source": [
    "## 2) In an insurance company, daily amount of claims is normally distributed with mean 1678 with standard deviation 500. Find the following\n",
    "## a)\tProbability that amount exceeds 2000 \n",
    "## b)\tWhat is the minimum amount of claims for the top 10% of the daily claims?\n",
    "## c)\tProbability that the amount is between 1000 and 1900.\n"
   ]
  },
  {
   "cell_type": "code",
   "execution_count": 3,
   "id": "be387abb",
   "metadata": {},
   "outputs": [
    {
     "data": {
      "text/plain": [
       "0.2597877169966792"
      ]
     },
     "execution_count": 3,
     "metadata": {},
     "output_type": "execute_result"
    }
   ],
   "source": [
    "norm.sf(2000,1678,500)"
   ]
  },
  {
   "cell_type": "code",
   "execution_count": 4,
   "id": "21b6ad43",
   "metadata": {},
   "outputs": [
    {
     "data": {
      "text/plain": [
       "2318.7757827723003"
      ]
     },
     "execution_count": 4,
     "metadata": {},
     "output_type": "execute_result"
    }
   ],
   "source": [
    "norm.ppf(0.9,1678,500)"
   ]
  },
  {
   "cell_type": "code",
   "execution_count": 5,
   "id": "d2c85774",
   "metadata": {},
   "outputs": [
    {
     "data": {
      "text/plain": [
       "0.5839291240185736"
      ]
     },
     "execution_count": 5,
     "metadata": {},
     "output_type": "execute_result"
    }
   ],
   "source": [
    "norm.cdf(1900,1678,500)-norm.cdf(1000,1678,500)"
   ]
  },
  {
   "cell_type": "markdown",
   "id": "f6abcdf4",
   "metadata": {},
   "source": [
    "## Suppose that the height of a female in a geographical region is normally \n",
    "## distributed with mean = 64 inches and std.Dev = 4 inches. \n",
    "## • What is the probability of finding a woman who will be less than 58 \n",
    "## inches tall ?"
   ]
  },
  {
   "cell_type": "code",
   "execution_count": 6,
   "id": "9db05659",
   "metadata": {},
   "outputs": [
    {
     "data": {
      "text/plain": [
       "0.06680720126885807"
      ]
     },
     "execution_count": 6,
     "metadata": {},
     "output_type": "execute_result"
    }
   ],
   "source": [
    "norm.cdf(58,64,4)"
   ]
  },
  {
   "cell_type": "markdown",
   "id": "c441d667",
   "metadata": {},
   "source": [
    "## Suppose the weight of a typical male in a geographical region follows a \n",
    "## normal distribution with mean = 180lb and std.Dev = 30lb. \n",
    "## What fraction of males weigh more than 200 pounds?"
   ]
  },
  {
   "cell_type": "code",
   "execution_count": 7,
   "id": "effa8d60",
   "metadata": {},
   "outputs": [
    {
     "data": {
      "text/plain": [
       "0.2524925375469229"
      ]
     },
     "execution_count": 7,
     "metadata": {},
     "output_type": "execute_result"
    }
   ],
   "source": [
    "norm.sf(200,180,30)"
   ]
  },
  {
   "cell_type": "markdown",
   "id": "c8c6a327",
   "metadata": {},
   "source": [
    "####  A fast-food restaurant sells As and Bs. On a typical weekday the demand \n",
    "####  for As is normally distributed with mean 313 and standard deviation 57; the \n",
    "####  demand for Bs is normally distributed with mean 93 and standard deviation 22.\n",
    "####  A ) How many As must the restaurant stock to be 98% sure of not running out of stock on a given day ?\n",
    "####  B ) How many Bs must the restaurant stock to be 90% sure of not running out on a given day ?\n",
    "####  C ) If the restaurant stocks 450 As and 150 Bs for a given day, what is the probability that it will run out of As or Bs (or both)                 that day ? Assume that the demand for As and Bs are probabilistically independent."
   ]
  },
  {
   "cell_type": "code",
   "execution_count": 8,
   "id": "35dc76b5",
   "metadata": {},
   "outputs": [
    {
     "data": {
      "text/plain": [
       "430.0636879060139"
      ]
     },
     "execution_count": 8,
     "metadata": {},
     "output_type": "execute_result"
    }
   ],
   "source": [
    "norm.ppf(0.98,313,57)"
   ]
  },
  {
   "cell_type": "code",
   "execution_count": 9,
   "id": "1bf3a73d",
   "metadata": {},
   "outputs": [
    {
     "data": {
      "text/plain": [
       "121.1941344419812"
      ]
     },
     "execution_count": 9,
     "metadata": {},
     "output_type": "execute_result"
    }
   ],
   "source": [
    "norm.ppf(0.9,93,22)"
   ]
  },
  {
   "cell_type": "code",
   "execution_count": 10,
   "id": "4310973c",
   "metadata": {},
   "outputs": [
    {
     "name": "stdout",
     "output_type": "stream",
     "text": [
      "0.012866567392664459\n"
     ]
    }
   ],
   "source": [
    "# p[As] + p[Bs] - p[As * Bs]\n",
    "\n",
    "pa = norm.sf(450,313,57)\n",
    "pb = norm.sf(150,93,22)\n",
    "print(pa+pb-(pa*pb))"
   ]
  },
  {
   "cell_type": "markdown",
   "id": "a9addbda",
   "metadata": {},
   "source": [
    "## Q) A popular soft drink is sold in 2-liter (2,000-milliliter) bottles. Because of variation in the filling process, bottles have a mean of 2,000 milliliters and a standard Deviation of 18, normally distributed.\n",
    "## a. If the process fills the bottle by more than 30 milliliters, the overflow will cause a machine malfunction. What is the probability of this occurring?\n",
    "## b. What is the probability of underfilling the bottles by at least 10 milliliters?"
   ]
  },
  {
   "cell_type": "code",
   "execution_count": 11,
   "id": "c236d159",
   "metadata": {},
   "outputs": [
    {
     "data": {
      "text/plain": [
       "0.0477903522728147"
      ]
     },
     "execution_count": 11,
     "metadata": {},
     "output_type": "execute_result"
    }
   ],
   "source": [
    "norm.sf(2030,2000,18)"
   ]
  },
  {
   "cell_type": "code",
   "execution_count": 12,
   "id": "856a2653",
   "metadata": {},
   "outputs": [
    {
     "data": {
      "text/plain": [
       "0.28925736075397196"
      ]
     },
     "execution_count": 12,
     "metadata": {},
     "output_type": "execute_result"
    }
   ],
   "source": [
    "norm.cdf(1990,2000,18)"
   ]
  },
  {
   "cell_type": "markdown",
   "id": "1c0493f3",
   "metadata": {},
   "source": [
    "## 1) The heights of adult males in a population follow a normal distribution with a mean of 175 cm and a standard deviation of 6 cm. What is the probability that a randomly selected adult male has a height between 180 cm and 190 cm?"
   ]
  },
  {
   "cell_type": "code",
   "execution_count": 13,
   "id": "911e7499",
   "metadata": {},
   "outputs": [
    {
     "data": {
      "text/plain": [
       "0.19611871563786698"
      ]
     },
     "execution_count": 13,
     "metadata": {},
     "output_type": "execute_result"
    }
   ],
   "source": [
    "norm.cdf(190,175,6)-norm.cdf(180,175,6)"
   ]
  },
  {
   "cell_type": "markdown",
   "id": "39beedfd",
   "metadata": {},
   "source": [
    "## 2) The weights of a certain population of individuals follow a normal distribution with a mean of 70 kg and a standard deviation of 5 kg. What is the probability that a randomly selected individual weighs more than 80 kg?"
   ]
  },
  {
   "cell_type": "code",
   "execution_count": 14,
   "id": "6ba2cf58",
   "metadata": {},
   "outputs": [
    {
     "data": {
      "text/plain": [
       "0.022750131948179195"
      ]
     },
     "execution_count": 14,
     "metadata": {},
     "output_type": "execute_result"
    }
   ],
   "source": [
    "norm.sf(80,70,5)"
   ]
  },
  {
   "cell_type": "markdown",
   "id": "204d9d59",
   "metadata": {},
   "source": [
    "## 3) The scores on a standardized test are normally distributed with a mean of 75 and a standard deviation of 10. What is the probability of randomly selecting a student who scores above 80 on the test?"
   ]
  },
  {
   "cell_type": "code",
   "execution_count": 15,
   "id": "c5059b04",
   "metadata": {},
   "outputs": [
    {
     "data": {
      "text/plain": [
       "0.3085375387259869"
      ]
     },
     "execution_count": 15,
     "metadata": {},
     "output_type": "execute_result"
    }
   ],
   "source": [
    "norm.sf(80,75,10)"
   ]
  },
  {
   "cell_type": "markdown",
   "id": "cfb00be3",
   "metadata": {},
   "source": [
    "## 4) The weights of a certain population of individuals follow a normal distribution with a mean of 60 kg and a standard deviation of 5 kg. What is the probability of randomly selecting an individual with a weight less than 65 kg?"
   ]
  },
  {
   "cell_type": "code",
   "execution_count": 16,
   "id": "64ef8b70",
   "metadata": {},
   "outputs": [
    {
     "data": {
      "text/plain": [
       "0.8413447460685429"
      ]
     },
     "execution_count": 16,
     "metadata": {},
     "output_type": "execute_result"
    }
   ],
   "source": [
    "norm.cdf(65,60,5)"
   ]
  },
  {
   "cell_type": "markdown",
   "id": "c741f5bc",
   "metadata": {},
   "source": [
    "## 5) The number of daily website visitors follows a normal distribution with a mean of 500 and a standard deviation of 50. What is the probability that on a randomly selected day, there are fewer than 400 visitors?"
   ]
  },
  {
   "cell_type": "code",
   "execution_count": 17,
   "id": "debeb9c4",
   "metadata": {},
   "outputs": [
    {
     "data": {
      "text/plain": [
       "0.022750131948179195"
      ]
     },
     "execution_count": 17,
     "metadata": {},
     "output_type": "execute_result"
    }
   ],
   "source": [
    "norm.cdf(400,500,50)"
   ]
  },
  {
   "cell_type": "markdown",
   "id": "98c163e3",
   "metadata": {},
   "source": [
    "## The distribution of SAT scores in math for an incom\u0002ing class of business students has a mean of 610 and standard deviation of 20. Assume that the scores are normally distributed.\n",
    "## a. Find the probability that an individual’s SAT score is less than 600.\n",
    "## b. Find the probability that an individual’s SAT score is between 590 and 620.\n",
    "## c. Find the probability that an individual’s SAT score is greater than 650.\n",
    "## d. What scores will the top 5% of students have?\n",
    "## e. Find the standardized values for students scoring 540, 600, 650, and 700 on the test. Explain what these mean."
   ]
  },
  {
   "cell_type": "code",
   "execution_count": 18,
   "id": "326b2965",
   "metadata": {},
   "outputs": [
    {
     "data": {
      "text/plain": [
       "0.3085375387259869"
      ]
     },
     "execution_count": 18,
     "metadata": {},
     "output_type": "execute_result"
    }
   ],
   "source": [
    "norm.cdf(600,610,20)"
   ]
  },
  {
   "cell_type": "code",
   "execution_count": 19,
   "id": "18f7d1b4",
   "metadata": {},
   "outputs": [
    {
     "data": {
      "text/plain": [
       "0.532807207342556"
      ]
     },
     "execution_count": 19,
     "metadata": {},
     "output_type": "execute_result"
    }
   ],
   "source": [
    "norm.cdf(620,610,20)-norm.cdf(590,610,20)"
   ]
  },
  {
   "cell_type": "code",
   "execution_count": 20,
   "id": "52f622ce",
   "metadata": {},
   "outputs": [
    {
     "data": {
      "text/plain": [
       "0.022750131948179195"
      ]
     },
     "execution_count": 20,
     "metadata": {},
     "output_type": "execute_result"
    }
   ],
   "source": [
    "norm.sf(650,610,20)"
   ]
  },
  {
   "cell_type": "code",
   "execution_count": 21,
   "id": "df3203c9",
   "metadata": {},
   "outputs": [
    {
     "data": {
      "text/plain": [
       "642.8970725390294"
      ]
     },
     "execution_count": 21,
     "metadata": {},
     "output_type": "execute_result"
    }
   ],
   "source": [
    "norm.ppf(0.95,610,20)"
   ]
  },
  {
   "cell_type": "code",
   "execution_count": 22,
   "id": "0b747d98",
   "metadata": {},
   "outputs": [
    {
     "name": "stdout",
     "output_type": "stream",
     "text": [
      "509.5\n",
      "569.5\n",
      "619.5\n",
      "669.5\n"
     ]
    }
   ],
   "source": [
    "# (Score-Mean)/Std.Dev\n",
    "\n",
    "print(540-610/20)\n",
    "print(600-610/20)\n",
    "print(650-610/20)\n",
    "print(700-610/20)"
   ]
  },
  {
   "cell_type": "code",
   "execution_count": null,
   "id": "d04908c9",
   "metadata": {},
   "outputs": [],
   "source": []
  }
 ],
 "metadata": {
  "kernelspec": {
   "display_name": "Python 3 (ipykernel)",
   "language": "python",
   "name": "python3"
  },
  "language_info": {
   "codemirror_mode": {
    "name": "ipython",
    "version": 3
   },
   "file_extension": ".py",
   "mimetype": "text/x-python",
   "name": "python",
   "nbconvert_exporter": "python",
   "pygments_lexer": "ipython3",
   "version": "3.10.9"
  }
 },
 "nbformat": 4,
 "nbformat_minor": 5
}
