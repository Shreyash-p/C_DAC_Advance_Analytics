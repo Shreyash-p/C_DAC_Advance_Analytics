{
 "cells": [
  {
   "cell_type": "code",
   "execution_count": 1,
   "id": "fe8a6380",
   "metadata": {},
   "outputs": [],
   "source": [
    "import numpy as np\n",
    "import pandas as pd\n",
    "import seaborn as sns\n",
    "import matplotlib.pyplot as plt\n",
    "from scipy import stats\n",
    "import statistics\n",
    "from scipy.stats import binom , poisson"
   ]
  },
  {
   "cell_type": "markdown",
   "id": "b330e52f",
   "metadata": {},
   "source": [
    "# Binomial Distribution"
   ]
  },
  {
   "cell_type": "code",
   "execution_count": 2,
   "id": "b7431b3f",
   "metadata": {},
   "outputs": [
    {
     "data": {
      "text/plain": [
       "0.027231742753245948"
      ]
     },
     "execution_count": 2,
     "metadata": {},
     "output_type": "execute_result"
    }
   ],
   "source": [
    "binom.pmf(5,40,0.25)    #Exactly 5"
   ]
  },
  {
   "cell_type": "code",
   "execution_count": 3,
   "id": "ff47803b",
   "metadata": {},
   "outputs": [
    {
     "data": {
      "text/plain": [
       "0.5839040780287896"
      ]
     },
     "execution_count": 3,
     "metadata": {},
     "output_type": "execute_result"
    }
   ],
   "source": [
    "binom.cdf(10,40,0.25)    #At most 10"
   ]
  },
  {
   "cell_type": "code",
   "execution_count": 4,
   "id": "c2c74938",
   "metadata": {},
   "outputs": [
    {
     "data": {
      "text/plain": [
       "0.1791342423460413"
      ]
     },
     "execution_count": 4,
     "metadata": {},
     "output_type": "execute_result"
    }
   ],
   "source": [
    "binom.sf(12,40,0.25)    #More than 12"
   ]
  },
  {
   "cell_type": "code",
   "execution_count": 5,
   "id": "4e9822c4",
   "metadata": {},
   "outputs": [
    {
     "data": {
      "text/plain": [
       "(10.0, 7.5)"
      ]
     },
     "execution_count": 5,
     "metadata": {},
     "output_type": "execute_result"
    }
   ],
   "source": [
    "binom.stats(40,0.25)    #mean = 10 , var = 7.5"
   ]
  },
  {
   "cell_type": "markdown",
   "id": "9a970919",
   "metadata": {},
   "source": [
    "# 1.\tThe incidence of a certain disease is such the on average, 15% of workers suffer from it. If some 20 workers are chosen at random, find the probability that \n",
    "# a)\tExactly 5 workers suffer from the disease\n",
    "# b)\tMore than 12 workers suffer from the disease\n",
    "# c)\tAt most 10 workers suffer from the disease\n"
   ]
  },
  {
   "cell_type": "code",
   "execution_count": 6,
   "id": "fff28230",
   "metadata": {},
   "outputs": [
    {
     "data": {
      "text/plain": [
       "0.10284517954557217"
      ]
     },
     "execution_count": 6,
     "metadata": {},
     "output_type": "execute_result"
    }
   ],
   "source": [
    "binom.pmf(5,20,0.15)"
   ]
  },
  {
   "cell_type": "code",
   "execution_count": 7,
   "id": "87c71d48",
   "metadata": {},
   "outputs": [
    {
     "data": {
      "text/plain": [
       "5.295123107511796e-07"
      ]
     },
     "execution_count": 7,
     "metadata": {},
     "output_type": "execute_result"
    }
   ],
   "source": [
    "binom.sf(12,20,0.15)"
   ]
  },
  {
   "cell_type": "code",
   "execution_count": 8,
   "id": "09795c2a",
   "metadata": {},
   "outputs": [
    {
     "data": {
      "text/plain": [
       "0.9999613672517919"
      ]
     },
     "execution_count": 8,
     "metadata": {},
     "output_type": "execute_result"
    }
   ],
   "source": [
    "binom.cdf(10,20,0.15)"
   ]
  },
  {
   "cell_type": "markdown",
   "id": "a61d196d",
   "metadata": {},
   "source": [
    "# 2.\tThe prevalence of a disorder in a certain group of people is 35%. If 20 people from that group are chosen at random, what is the probability that:\n",
    "# a)\tNone of them have that disorder\n",
    "# b)\t10 of them have that disorder\n",
    "# c)\tAt most 10 of them have that disorder\n",
    "# d)\tAt least 14 of them have that disorder\n"
   ]
  },
  {
   "cell_type": "code",
   "execution_count": 9,
   "id": "ee602911",
   "metadata": {},
   "outputs": [
    {
     "data": {
      "text/plain": [
       "0.00018124545836335003"
      ]
     },
     "execution_count": 9,
     "metadata": {},
     "output_type": "execute_result"
    }
   ],
   "source": [
    "binom.pmf(0,20,0.35)"
   ]
  },
  {
   "cell_type": "code",
   "execution_count": 10,
   "id": "60f01a6f",
   "metadata": {},
   "outputs": [
    {
     "data": {
      "text/plain": [
       "0.06861397201445474"
      ]
     },
     "execution_count": 10,
     "metadata": {},
     "output_type": "execute_result"
    }
   ],
   "source": [
    "binom.pmf(10,20,0.35)"
   ]
  },
  {
   "cell_type": "code",
   "execution_count": 11,
   "id": "8a2d69bd",
   "metadata": {},
   "outputs": [
    {
     "data": {
      "text/plain": [
       "0.9468333856370539"
      ]
     },
     "execution_count": 11,
     "metadata": {},
     "output_type": "execute_result"
    }
   ],
   "source": [
    "binom.cdf(10,20,0.35)"
   ]
  },
  {
   "cell_type": "code",
   "execution_count": 12,
   "id": "244f3047",
   "metadata": {},
   "outputs": [
    {
     "data": {
      "text/plain": [
       "0.0003105749704280381"
      ]
     },
     "execution_count": 12,
     "metadata": {},
     "output_type": "execute_result"
    }
   ],
   "source": [
    "binom.sf(14,20,0.35)"
   ]
  },
  {
   "cell_type": "markdown",
   "id": "5fef62e5",
   "metadata": {},
   "source": [
    "# Poisson Distribution"
   ]
  },
  {
   "cell_type": "markdown",
   "id": "4e1d795d",
   "metadata": {},
   "source": [
    "# 1.\tThe number of calls received per day by a Customer Care division is observed to follow Poisson Distribution with mean calls as 56. Find the following:\n",
    "# a)\tProbability that it may get more than 70 calls in a day\n",
    "# b)\tProbability that less than 20 calls are received in a day\n"
   ]
  },
  {
   "cell_type": "code",
   "execution_count": 13,
   "id": "5defa23f",
   "metadata": {},
   "outputs": [
    {
     "data": {
      "text/plain": [
       "0.009424663828796122"
      ]
     },
     "execution_count": 13,
     "metadata": {},
     "output_type": "execute_result"
    }
   ],
   "source": [
    "poisson.pmf(70,56)"
   ]
  },
  {
   "cell_type": "code",
   "execution_count": 14,
   "id": "6126a917",
   "metadata": {},
   "outputs": [
    {
     "data": {
      "text/plain": [
       "2.7725236743267197e-08"
      ]
     },
     "execution_count": 14,
     "metadata": {},
     "output_type": "execute_result"
    }
   ],
   "source": [
    "poisson.cdf(20,56)"
   ]
  },
  {
   "cell_type": "markdown",
   "id": "060f17e6",
   "metadata": {},
   "source": [
    "# 2.\tThe number of customers served at a counter per hour are 4. Find the following:\n",
    "# a.\tProbability that more than 5 customers will be served in an hour\n",
    "# b.\tProbability that less than 3 customers will be served in an hour\n"
   ]
  },
  {
   "cell_type": "code",
   "execution_count": 15,
   "id": "47de2d96",
   "metadata": {},
   "outputs": [
    {
     "data": {
      "text/plain": [
       "0.2148696129695948"
      ]
     },
     "execution_count": 15,
     "metadata": {},
     "output_type": "execute_result"
    }
   ],
   "source": [
    "poisson.sf(5,4)"
   ]
  },
  {
   "cell_type": "code",
   "execution_count": 16,
   "id": "d6bb14bb",
   "metadata": {},
   "outputs": [
    {
     "data": {
      "text/plain": [
       "0.23810330555354436"
      ]
     },
     "execution_count": 16,
     "metadata": {},
     "output_type": "execute_result"
    }
   ],
   "source": [
    "poisson.cdf(2,4)"
   ]
  },
  {
   "cell_type": "code",
   "execution_count": null,
   "id": "60595a09",
   "metadata": {},
   "outputs": [],
   "source": []
  }
 ],
 "metadata": {
  "kernelspec": {
   "display_name": "Python 3 (ipykernel)",
   "language": "python",
   "name": "python3"
  },
  "language_info": {
   "codemirror_mode": {
    "name": "ipython",
    "version": 3
   },
   "file_extension": ".py",
   "mimetype": "text/x-python",
   "name": "python",
   "nbconvert_exporter": "python",
   "pygments_lexer": "ipython3",
   "version": "3.10.9"
  }
 },
 "nbformat": 4,
 "nbformat_minor": 5
}
